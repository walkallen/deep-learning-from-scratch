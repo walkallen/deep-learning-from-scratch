{
 "cells": [
  {
   "cell_type": "code",
   "execution_count": 2,
   "metadata": {},
   "outputs": [
    {
     "data": {
      "text/plain": [
       "0.09750000000000003"
      ]
     },
     "execution_count": 2,
     "metadata": {},
     "output_type": "execute_result"
    }
   ],
   "source": [
    "'''\n",
    "损失函数\n",
    "\n",
    "\n",
    "均方误差\n",
    "\n",
    "E = 1/2 SUM (Yk-Tk)^2\n",
    "\n",
    "'''\n",
    "\n",
    "import numpy as np \n",
    "\n",
    "\n",
    "def mean_squared_error(y, t):\n",
    "    return 0.5 * np.sum((y-t)**2)\n",
    "\n",
    "\n",
    "# 设“2”为正确解\n",
    "t = [0, 0, 1, 0, 0, 0, 0, 0, 0, 0]\n",
    "\n",
    "\n",
    "# 例1：“2”的概率最高的情况（0.6）\n",
    "y = [0.1, 0.05, 0.6, 0.0, 0.05, 0.1, 0.0, 0.1, 0.0, 0.0]\n",
    "\n",
    "mean_squared_error(np.array(y), np.array(t))"
   ]
  },
  {
   "cell_type": "code",
   "execution_count": 3,
   "metadata": {},
   "outputs": [
    {
     "data": {
      "text/plain": [
       "0.5975"
      ]
     },
     "execution_count": 3,
     "metadata": {},
     "output_type": "execute_result"
    }
   ],
   "source": [
    "# 例2：“7”的概率最高的情况（0.6）\n",
    "y = [0.1, 0.05, 0.1, 0.0, 0.05, 0.1, 0.0, 0.6, 0.0, 0.0]\n",
    "mean_squared_error(np.array(y), np.array(t))\n",
    "\n",
    "# 这个的损失值比较高，说明与答案相去甚远"
   ]
  },
  {
   "cell_type": "code",
   "execution_count": 5,
   "metadata": {},
   "outputs": [
    {
     "data": {
      "text/plain": [
       "0.510825457099338"
      ]
     },
     "execution_count": 5,
     "metadata": {},
     "output_type": "execute_result"
    }
   ],
   "source": [
    "\n",
    "\n",
    "# 交叉熵误差\n",
    "\n",
    "'''\n",
    "\n",
    "E = - SUM( Tk logYk ) \n",
    "\n",
    "\n",
    "Tk 和 Yk 都是 0.0 -- 1.0 之间的值\n",
    "如果 Tk 和 Yk 都是 1 那么 Tk LogYk 就等于 0\n",
    "如果 Tk 是 1, Yk 是 0.2 , 那么 Tk LogYk 相乘就是一个很大的值\n",
    "\n",
    "这里，参数y和t是NumPy数组。函数内部在计算np.log时，加上了一\n",
    "个微小值delta。这是因为，当出现np.log(0)时，np.log(0)会变为负无限大\n",
    "的-inf，这样一来就会导致后续计算无法进行。作为保护性对策,\n",
    "添加一个微小值可以防止负无限大的发生。\n",
    "\n",
    "\n",
    "'''\n",
    "\n",
    "def cross_entropy_error(y, t):\n",
    "    delta = 1e-7\n",
    "    return -np.sum(t * np.log(y + delta))\n",
    "\n",
    "t = [0, 0, 1, 0, 0, 0, 0, 0, 0, 0]\n",
    "y = [0.1, 0.05, 0.6, 0.0, 0.05, 0.1, 0.0, 0.1, 0.0, 0.0]\n",
    "\n",
    "cross_entropy_error(np.array(y), np.array(t))\n",
    "\n",
    "# 这个误差比较小\n",
    "#  "
   ]
  },
  {
   "cell_type": "code",
   "execution_count": 6,
   "metadata": {},
   "outputs": [
    {
     "data": {
      "text/plain": [
       "2.302584092994546"
      ]
     },
     "execution_count": 6,
     "metadata": {},
     "output_type": "execute_result"
    }
   ],
   "source": [
    "y = [0.1, 0.05, 0.1, 0.0, 0.05, 0.1, 0.0, 0.6, 0.0, 0.0]\n",
    "cross_entropy_error(np.array(y), np.array(t))\n",
    "\n",
    "# 这个误差比较大\n"
   ]
  },
  {
   "cell_type": "code",
   "execution_count": 7,
   "metadata": {},
   "outputs": [
    {
     "name": "stdout",
     "output_type": "stream",
     "text": [
      "(60000, 784)\n",
      "(60000, 10)\n"
     ]
    }
   ],
   "source": [
    "'''\n",
    "神经网络的学习也是从训练数据中选出一批数据（称为mini-batch,小\n",
    "批量），然后对每个mini-batch进行学习。比如，从60000个训练数据中随机\n",
    "选择100笔，再用这100笔数据进行学习。这种学习方式称为mini-batch学习。\n",
    "\n",
    "'''\n",
    "\n",
    "import sys, os\n",
    "import numpy as np\n",
    "from dataset.mnist import load_mnist\n",
    "(x_train, t_train), (x_test, t_test) = load_mnist(normalize=True, one_hot_label=True)\n",
    "print(x_train.shape) # (60000, 784)\n",
    "print(t_train.shape) # (60000, 10)\n"
   ]
  },
  {
   "cell_type": "code",
   "execution_count": 8,
   "metadata": {},
   "outputs": [
    {
     "data": {
      "text/plain": [
       "array([38559, 53806, 10841,  1666, 16448, 41686, 42506, 14329, 30499,\n",
       "        9371])"
      ]
     },
     "execution_count": 8,
     "metadata": {},
     "output_type": "execute_result"
    }
   ],
   "source": [
    "# 那么，如何从这个训练数据中随机抽取10笔数据呢？我们可以使用\n",
    "# NumPy的np.random.choice()，写成如下形式。\n",
    "\n",
    "\n",
    "np.random.choice(60000, 10)"
   ]
  },
  {
   "cell_type": "code",
   "execution_count": 9,
   "metadata": {},
   "outputs": [
    {
     "data": {
      "text/plain": [
       "'\\n\\n建立损失函数的目的是，如果稍微改变参数，损失函数的值会连续变化\\n而基于结果的精确度，不会随着参数的改变而连续变化\\n\\n'"
      ]
     },
     "execution_count": 9,
     "metadata": {},
     "output_type": "execute_result"
    }
   ],
   "source": [
    "train_size = x_train.shape[0]  # 在这里就是 60000\n",
    "batch_size = 10\n",
    "batch_mask = np.random.choice(train_size, batch_size)\n",
    "x_batch = x_train[batch_mask]\n",
    "t_batch = t_train[batch_mask]\n",
    "\n",
    "\n",
    "'''\n",
    "如何实现对应mini-batch的交叉熵误差呢？只要改良一下之前实现的对\n",
    "应单个数据的交叉熵误差就可以了。这里，我们来实现一个可以同时处理单\n",
    "个数据和批量数据（数据作为集中输入）两种情况的函数。\n",
    "\n",
    "\n",
    "这里，y是神经网络的输出，t是监督数据。y的维度为1时，即求单个\n",
    "数据的交叉熵误差时，需要改变数据的形状。并且，当输入为mini-batch时，\n",
    "要用batch的个数进行正规化，计算单个数据的平均交叉熵误差。\n",
    "\n",
    "'''\n",
    "\n",
    "def cross_entropy_error(y, t):\n",
    "    if y.ndim == 1:\n",
    "        t = t.reshape(1, t.size)  # 如果是一维的，那么就重构为二维数据，第一个维度的值为 1\n",
    "        y = y.reshape(1, y.size)\n",
    "    batch_size = y.shape[0] # 第一个维度的值代表 batchsize\n",
    "    return -np.sum(t * np.log(y + 1e-7)) / batch_size\n",
    "\n",
    "'''\n",
    "\n",
    "建立损失函数的目的是，如果稍微改变参数，损失函数的值会连续变化\n",
    "而基于结果的精确度，不会随着参数的改变而连续变化\n",
    "\n",
    "'''"
   ]
  },
  {
   "cell_type": "code",
   "execution_count": 15,
   "metadata": {},
   "outputs": [
    {
     "name": "stdout",
     "output_type": "stream",
     "text": [
      "0.1999999999990898\n"
     ]
    },
    {
     "data": {
      "image/png": "[encoded data removed]",
      "text/plain": [
       "<Figure size 640x480 with 1 Axes>"
      ]
     },
     "metadata": {},
     "output_type": "display_data"
    }
   ],
   "source": [
    "import numpy as np\n",
    "import matplotlib.pylab as plt\n",
    "\n",
    "# 数值微分求导数\n",
    "def numerical_diff(f, x):\n",
    "    h = 1e-4 # 0.0001\n",
    "    return (f(x+h) - f(x-h)) / (2*h)\n",
    "\n",
    "\n",
    "def function_1(x):\n",
    "    return 0.01*x**2 + 0.1*x \n",
    "\n",
    "# 求函数 f 在 x 点的切线函数\n",
    "def tangent_line(f, x):\n",
    "    d = numerical_diff(f, x)\n",
    "    print(d)\n",
    "    y = f(x) - d*x\n",
    "    return lambda t: d*t + y\n",
    "     \n",
    "x = np.arange(0.0, 20.0, 0.1)\n",
    "y = function_1(x)\n",
    "plt.xlabel(\"x\")\n",
    "plt.ylabel(\"f(x)\")\n",
    "\n",
    "tf = tangent_line(function_1, 5)\n",
    "y2 = tf(x)\n",
    "\n",
    "plt.title(\"Derivative\")\n",
    "plt.plot(x, y)\n",
    "plt.plot(x, y2)\n",
    "plt.show()"
   ]
  },
  {
   "cell_type": "code",
   "execution_count": 18,
   "metadata": {},
   "outputs": [
    {
     "data": {
      "image/png": "[encoded data removed]",
      "text/plain": [
       "<Figure size 640x480 with 1 Axes>"
      ]
     },
     "metadata": {},
     "output_type": "display_data"
    }
   ],
   "source": [
    "# 求两个变量的函数的，两个偏导数，组成的梯度\n",
    "\n",
    "'''\n",
    "例如\n",
    "\n",
    "y = X1^2 + X2^2  在 点 (3, 4) 时的梯度\n",
    "\n",
    "很显然 (3, 4) 时的梯度 为 (6, 8)\n",
    "\n",
    "至于朝 (6, 8) 这个方向走多少路，则取决于学习率 learning rate\n",
    "\n",
    "\n",
    "\n",
    "'''\n",
    "\n",
    "\n",
    "import numpy as np\n",
    "import matplotlib.pylab as plt\n",
    "\n",
    "# 求多个 x 变量的导数\n",
    "def _numerical_gradient_no_batch(f, x):\n",
    "    h = 1e-4  # 0.0001\n",
    "    grad = np.zeros_like(x)  # 生成和x形状相同的数组\n",
    "    \n",
    "    for idx in range(x.size):\n",
    "        tmp_val = x[idx]\n",
    "        x[idx] = float(tmp_val) + h # 其他 x 变量不动，仅仅略微改变当前 x 的值\n",
    "        fxh1 = f(x)  # f(x+h)\n",
    "        \n",
    "        x[idx] = tmp_val - h \n",
    "        fxh2 = f(x)  # f(x-h)\n",
    "        grad[idx] = (fxh1 - fxh2) / (2*h)\n",
    "        \n",
    "        x[idx] = tmp_val  # 値を元に戻す\n",
    "        \n",
    "    return grad\n",
    "\n",
    "\n",
    "# 带批量的 x 求导数处理方法\n",
    "def numerical_gradient(f, X):\n",
    "    if X.ndim == 1:\n",
    "        return _numerical_gradient_no_batch(f, X)\n",
    "    else:\n",
    "        grad = np.zeros_like(X)\n",
    "        \n",
    "        # 对于二维矩阵，遍历矩阵的每一行，每次处理一行 x\n",
    "        for idx, x in enumerate(X):\n",
    "            grad[idx] = _numerical_gradient_no_batch(f, x)\n",
    "        \n",
    "        return grad\n",
    "\n",
    "'''\n",
    "梯度下降\n",
    "\n",
    "f           函数\n",
    "init_x      起始点\n",
    "lr          学习率，乘以梯度就是每次往前走多少路\n",
    "step_num    一共走几次\n",
    "\n",
    "'''\n",
    "def gradient_descent(f, init_x, lr=0.01, step_num=100):\n",
    "    x = init_x\n",
    "    x_history = []  # 保存每次走的历史 x 值\n",
    "\n",
    "    for i in range(step_num):\n",
    "        x_history.append( x.copy() )\n",
    "\n",
    "        grad = numerical_gradient(f, x)\n",
    "        x -= lr * grad # 朝梯度的相反方向走，损失函数越来越小\n",
    "\n",
    "    # 返回两个值，一个是最后的 x 值，以及 x_history 的历史值\n",
    "    return x, np.array(x_history)\n",
    "\n",
    "# 函数是 y = x0 平方 + x1 平方\n",
    "def function_2(x):\n",
    "    return (x[0]+1)**2 + x[1]**2\n",
    "\n",
    "# 起始点是 [-3, 4]\n",
    "init_x = np.array([-3.0, 4.0])    \n",
    "\n",
    "lr = 0.1\n",
    "step_num = 20\n",
    "x, x_history = gradient_descent(function_2, init_x, lr=lr, step_num=step_num)\n",
    "\n",
    "plt.plot( [-5, 5], [0,0], '--b')\n",
    "plt.plot( [0,0], [-5, 5], '--b')\n",
    "plt.plot(x_history[:,0], x_history[:,1], 'o')\n",
    "\n",
    "plt.xlim(-3.5, 3.5)\n",
    "plt.ylim(-4.5, 4.5)\n",
    "plt.xlabel(\"X0\")\n",
    "plt.ylabel(\"X1\")\n",
    "plt.show()"
   ]
  },
  {
   "cell_type": "code",
   "execution_count": 33,
   "metadata": {},
   "outputs": [
    {
     "name": "stdout",
     "output_type": "stream",
     "text": [
      "[[ 0.11838569  0.32757506 -0.28835122]\n",
      " [ 1.03142705  1.49112409 -0.25033289]]\n",
      "print net.W[1]\n",
      "0\n",
      "[ 0.11838569  0.32757506 -0.28835122]\n",
      "1\n",
      "[ 1.03142705  1.49112409 -0.25033289]\n",
      "\n",
      "predict p is\n",
      "[ 0.99931576  1.53855672 -0.39831033]\n",
      "\n",
      "1\n",
      "loss is \n",
      "2.483451764390329\n"
     ]
    }
   ],
   "source": [
    "\n",
    "# 神经网络的梯度\n",
    "'''\n",
    "\n",
    "# 有一个只有一个形状为 2x3 的权重 W 的神经网络\n",
    "# 损失函数用 L 表示\n",
    "\n",
    "     W11  W12  W13\n",
    "W =  W21  W22  W23\n",
    "\n",
    "相应的偏导数矩阵也是一样的形状\n",
    "\n",
    "'''\n",
    "\n",
    "def softmax(x):\n",
    "    x = x - np.max(x, axis=-1, keepdims=True)   # 防止溢出\n",
    "    return np.exp(x) / np.sum(np.exp(x), axis=-1, keepdims=True)\n",
    "\n",
    "'''\n",
    "实现的要点是，由于one-hot表示中t为0的元素的交叉熵误差也为0，因\n",
    "此针对这些元素的计算可以忽略。换言之，如果可以获得神经网络在正确\n",
    "解标签处的输出，就可以计算交叉熵误差。因此，t为one-hot表示时通过\n",
    "t * np.log(y)计算的地方，在t为标签形式时，可用np.log( y[np.arange \n",
    "(batch_size), t] )实现相同的处理（为了便于观察，这里省略了微小值1e-7）。\n",
    "\n",
    "'''\n",
    "\n",
    "\n",
    "def cross_entropy_error(y, t):\n",
    "    if y.ndim == 1:\n",
    "        t = t.reshape(1, t.size)\n",
    "        y = y.reshape(1, y.size)\n",
    "        \n",
    "    # 如果训练数据是 one-hot-vector，像[0,0,1,0,0,0,0,0,0,0]这样，\n",
    "    # 则将其转换为正确标签的索引 2\n",
    "    if t.size == y.size:\n",
    "        t = t.argmax(axis=1)\n",
    "             \n",
    "    batch_size = y.shape[0]\n",
    "    return -np.sum(np.log(y[np.arange(batch_size), t] + 1e-7)) / batch_size\n",
    "\n",
    "\n",
    "\n",
    "class simpleNet:\n",
    "    def __init__(self):\n",
    "        self.W = np.random.randn(2,3)   # 用高斯分布进行初始化\n",
    "\n",
    "    def predict(self, x):\n",
    "        return np.dot(x, self.W)\n",
    "    '''\n",
    "    x   \n",
    "    '''\n",
    "    def loss(self, x, t):\n",
    "        z = self.predict(x) # 由输入点积 W矩阵，得到答案 z\n",
    "        y = softmax(z)      # 再经过 softmax 函数得到最终答案 y\n",
    "        loss = cross_entropy_error(y, t) # 计算答案 y 和 标签 t 的交叉熵损失函数\n",
    "\n",
    "        return loss\n",
    "    \n",
    "x = np.array([0.6, 0.9])        # 输入\n",
    "t = np.array([  0,   0,   1])   # 答案\n",
    "\n",
    "# 初始化网络，参数 W 矩阵\n",
    "net = simpleNet()\n",
    "\n",
    "print(net.W) # 权重参数\n",
    "\n",
    "print(\"print net.W[1]\")\n",
    "for idx, x in enumerate(net.W):\n",
    "    print(idx)\n",
    "    print(x)\n",
    "\n",
    "print()\n",
    "# 由输入推理出结果\n",
    "x = np.array([0.6, 0.9])\n",
    "p = net.predict(x)\n",
    "\n",
    "print('predict p is')\n",
    "print(p)\n",
    "\n",
    "print()\n",
    "\n",
    "print(np.argmax(p)) # 最大值索引\n",
    "\n",
    "t = np.array([0, 0, 1])     # 正确解标签\n",
    "\n",
    "print('loss is ')\n",
    "print(net.loss(x,t))\n"
   ]
  },
  {
   "cell_type": "code",
   "execution_count": 28,
   "metadata": {},
   "outputs": [
    {
     "name": "stdout",
     "output_type": "stream",
     "text": [
      "[[ 0.30119084  0.08464162 -0.38583245]\n",
      " [ 0.45178625  0.12696243 -0.57874868]]\n"
     ]
    }
   ],
   "source": [
    "# 求梯度\n",
    "\n",
    "'''\n",
    "这里定义的函数f(W)的参数W是一个伪参数。\n",
    "因为numerical_gradient(f, x)会在内部执行f(x),为了与之兼容而定义了f(W)）。\n",
    "'''\n",
    "def f(W):\n",
    "    return net.loss(x, t)\n",
    "# 这里的意思是每次略微改变 W 矩阵中某一个 W 的值，得到函数 f 的差分，再除以 W 的差值\n",
    "dW = numerical_gradient(f, net.W)\n",
    "\n",
    "print(dW)"
   ]
  },
  {
   "cell_type": "code",
   "execution_count": null,
   "metadata": {},
   "outputs": [],
   "source": [
    "'''\n",
    "下面，我们来实现手写数字识别的神经网络。这里以2层神经网络（隐\n",
    "藏层为1层的网络）为对象，使用MNIST数据集进行学习。\n",
    "\n",
    "'''\n",
    "\n",
    "\n",
    "class TwoLayerNet:\n",
    "\n",
    "    def __init__(self, input_size, hidden_size, output_size, weight_init_std=0.01):\n",
    "        # 初始化权重\n",
    "        self.params = {}\n",
    "        self.params['W1'] = weight_init_std * np.random.randn(input_size, hidden_size)\n",
    "        self.params['b1'] = np.zeros(hidden_size)\n",
    "        self.params['W2'] = weight_init_std * np.random.randn(hidden_size, output_size)\n",
    "        self.params['b2'] = np.zeros(output_size)\n",
    "\n",
    "    def predict(self, x):\n",
    "        W1, W2 = self.params['W1'], self.params['W2']\n",
    "        b1, b2 = self.params['b1'], self.params['b2']\n",
    "    \n",
    "        a1 = np.dot(x, W1) + b1\n",
    "        z1 = sigmoid(a1)\n",
    "        a2 = np.dot(z1, W2) + b2\n",
    "        y = softmax(a2)\n",
    "        \n",
    "        return y\n",
    "    \n",
    "\n",
    "    # x:入力データ, t:教師データ\n",
    "    def loss(self, x, t):\n",
    "        y = self.predict(x)\n",
    "        \n",
    "        return cross_entropy_error(y, t)\n",
    "    \n",
    "    def accuracy(self, x, t):\n",
    "        y = self.predict(x)\n",
    "        y = np.argmax(y, axis=1)\n",
    "        t = np.argmax(t, axis=1)\n",
    "        \n",
    "        accuracy = np.sum(y == t) / float(x.shape[0])\n",
    "        return accuracy\n",
    "        \n",
    "    # x:入力データ, t:教師データ\n",
    "    def numerical_gradient(self, x, t):\n",
    "        loss_W = lambda W: self.loss(x, t)\n",
    "        \n",
    "        grads = {}\n",
    "        grads['W1'] = numerical_gradient(loss_W, self.params['W1'])\n",
    "        grads['b1'] = numerical_gradient(loss_W, self.params['b1'])\n",
    "        grads['W2'] = numerical_gradient(loss_W, self.params['W2'])\n",
    "        grads['b2'] = numerical_gradient(loss_W, self.params['b2'])\n",
    "        \n",
    "        return grads\n",
    "        \n",
    "    def gradient(self, x, t):\n",
    "        W1, W2 = self.params['W1'], self.params['W2']\n",
    "        b1, b2 = self.params['b1'], self.params['b2']\n",
    "        grads = {}\n",
    "        \n",
    "        batch_num = x.shape[0]\n",
    "        \n",
    "        # forward\n",
    "        a1 = np.dot(x, W1) + b1\n",
    "        z1 = sigmoid(a1)\n",
    "        a2 = np.dot(z1, W2) + b2\n",
    "        y = softmax(a2)\n",
    "        \n",
    "        # backward\n",
    "        dy = (y - t) / batch_num\n",
    "        grads['W2'] = np.dot(z1.T, dy)\n",
    "        grads['b2'] = np.sum(dy, axis=0)\n",
    "        \n",
    "        dz1 = np.dot(dy, W2.T)\n",
    "        da1 = sigmoid_grad(a1) * dz1\n",
    "        grads['W1'] = np.dot(x.T, da1)\n",
    "        grads['b1'] = np.sum(da1, axis=0)\n",
    "\n",
    "        return grads"
   ]
  }
 ],
 "metadata": {
  "kernelspec": {
   "display_name": "env_dlfs",
   "language": "python",
   "name": "python3"
  },
  "language_info": {
   "codemirror_mode": {
    "name": "ipython",
    "version": 3
   },
   "file_extension": ".py",
   "mimetype": "text/x-python",
   "name": "python",
   "nbconvert_exporter": "python",
   "pygments_lexer": "ipython3",
   "version": "3.10.6"
  },
  "orig_nbformat": 4
 },
 "nbformat": 4,
 "nbformat_minor": 2
}
